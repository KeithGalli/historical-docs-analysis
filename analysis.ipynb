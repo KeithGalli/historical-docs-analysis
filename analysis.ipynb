{
 "cells": [
  {
   "cell_type": "markdown",
   "metadata": {},
   "source": [
    "# Freedmen's Bureau Analysis "
   ]
  },
  {
   "cell_type": "markdown",
   "metadata": {},
   "source": [
    "## Task #0: Configure an LLM"
   ]
  },
  {
   "cell_type": "markdown",
   "metadata": {},
   "source": [
    "### Import libraries that we'll use in this notebook"
   ]
  },
  {
   "cell_type": "code",
   "execution_count": 111,
   "metadata": {},
   "outputs": [],
   "source": [
    "from langchain_community.llms import Ollama\n",
    "from langchain_community.chat_models import ChatOllama\n",
    "from langchain_openai import OpenAI, ChatOpenAI\n",
    "from langchain.prompts import PromptTemplate, ChatPromptTemplate\n",
    "from langchain.chains import LLMChain\n",
    "from langchain.schema import HumanMessage, SystemMessage, AIMessage\n",
    "\n",
    "import json\n",
    "import pandas as pd\n",
    "import ast\n"
   ]
  },
  {
   "cell_type": "markdown",
   "metadata": {},
   "source": [
    "## Task #1: Parse Entitities from Simple Examples (Warmup)"
   ]
  },
  {
   "cell_type": "markdown",
   "metadata": {},
   "source": [
    "### Samples to be able to parse correctly"
   ]
  },
  {
   "cell_type": "code",
   "execution_count": 117,
   "metadata": {},
   "outputs": [],
   "source": [
    "\n",
    "inputs = [\n",
    "    \"John James agrees to pay $50/month to RJ Hampshire for work on the Farm\",\n",
    "    \"Elizabeth James will pay $30 per month to Levi Rodgers for Gardening\",\n",
    "    \"Johnson Ollaman will pay $1.25 per day to both John Smith and Jane Smith for teaching the children of the community\",\n",
    "    \"Claire Daniels charges $50 weekly to local community members for cooking classes, emphasizing the joy of healthy eating.\",\n",
    "    \"Marcus Wellby commits to donating $500 annually to the Green Earth Foundation for environmental conservation efforts.\",\n",
    "    \"Dr. Helena Russell charges $100 per hour for providing guidance and support to medical students, aiming to enhance their clinical skills and knowledge.\",\n",
    "    \"Keith Galli charges $0 to watch his YouTube content; the least you could do is smash that like button and subscribe, hehehe xD\",\n",
    "    \"The local sports club agrees to pay $75 each to coaches Sarah Miller, Danny Glover, Alex Reed, and Jamie Fox for conducting a weekend sports clinic.\",\n",
    "    \"\"\"This Agreement made this 14th day of August A.D. 1865, by and between F.R.J. Terry of the county of Copiah and State of Mississippi of the first part, and the person hereinafter named and undersigned, Freedmen of the second part [[?]] That for the purpose of working in the [[?]] known as Beagley's [[?]] Yard in the county aforesaid for two months commencing on the 14th day of August 1865 and terminating on the 14th day of October 1865. The said F.R.J. Terry party of the first part, in consideration of the [[?]] and conditions hereinafter mentioned on the part of the party of the second part agrees to pay said laborer \"10\" ten dollars per month and furnish free of charge clothing and good of good quality and sufficient quantity, good and sufficient quarters, and kind and humane treatment. And it is further agreed that in case the said F.R.J. Terry shall fail, neglect, or refuse to fulfill any of the obligations assumed by him, he shall besides the legal recourse left to the party aggrieved render this contract liable to amendment by the Provost Marshal of Freedmen. And it is agreed on the part of the party of second part that he will well and faithfully perform such labor as the said F.R.J. Terry may require of him for the time aforesaid, nor exceeding ten hours per day in summer and nine hours in winter. And in case the said laborer shall absent himself from or refuse to perform the labor herein promised, he shall loose the time and be punished as such manner as the Provost Marshal shall deem propper.\"\"\",\n",
    "]\n",
    "\n",
    "outputs = [\n",
    "    [{\"payer\": \"John James\", \"recipient\": \"RJ Hampshire\", \"amount\": 50, \"pay frequency\": \"monthly\", \"description\": \"farming\"}],\n",
    "    [{\"payer\": \"Elizabeth James\", \"recipient\": \"Levi Rodgers\", \"amount\": 30, \"pay frequency\": \"monthly\", \"description\": \"gardening\"}],\n",
    "    [{\"payer\": \"Johnson Ollaman\", \"recipient\": \"John Smith\", \"amount\": 1.25, \"pay frequency\": \"daily\", \"description\": \"teaching the children of the community\"}, {\"payer\": \"Johnson Ollaman\", \"recipient\": \"Jane Smith\", \"amount\": 1.25, \"pay frequency\": \"daily\", \"description\": \"teaching the children of the community\"}],\n",
    "    [{\"payer\": \"Claire Daniels\", \"recipient\": \"Local community members\", \"amount\": 50, \"pay frequency\": \"weekly\", \"description\": \"cooking classes\"}],\n",
    "    [{\"payer\": \"Marcus Wellby\", \"recipient\": \"Green Earth Foundation\", \"amount\": 500, \"pay frequency\": \"yearly\", \"description\": \"donation for environmental conservation\"}],\n",
    "    [{\"payer\": \"Dr. Helena Russell\", \"recipient\": \"Medical students\", \"amount\": 100, \"pay frequency\": \"hourly\", \"description\": \"mentorship and clinical skill enhancement\"}],\n",
    "    [{\"payer\": None, \"recipient\": \"Keith Galli\", \"amount\": 0, \"pay frequency\": None, \"description\": \"YouTube content\"}],\n",
    "    [{\"payer\": \"The local sports club\", \"recipient\": \"Sarah Miller\", \"amount\": 75, \"pay frequency\": \"one-time\", \"description\": \"weekend sports clinic\"},\n",
    "     {\"payer\": \"The local sports club\", \"recipient\": \"Danny Glover\", \"amount\": 75, \"pay frequency\": \"one-time\", \"description\": \"weekend sports clinic\"},\n",
    "     {\"payer\": \"The local sports club\", \"recipient\": \"Alex Reed\", \"amount\": 75, \"pay frequency\": \"one-time\", \"description\": \"weekend sports clinic\"},\n",
    "     {\"payer\": \"The local sports club\", \"recipient\": \"Jamie Fox\", \"amount\": 75, \"pay frequency\": \"one-time\", \"description\": \"weekend sports clinic\"}],\n",
    "    [{\"payer\": \"F.R.J. Terry\", \"payee\": \"Freedmen\", \"amount\":10, \"pay frequency\": \"monthly\", \"description\": \"working in the yard\"}],\n",
    "]"
   ]
  },
  {
   "cell_type": "markdown",
   "metadata": {},
   "source": [
    "### Your code here"
   ]
  },
  {
   "cell_type": "code",
   "execution_count": 139,
   "metadata": {},
   "outputs": [],
   "source": [
    "system_message = \"\"\"\n",
    "  From the following historical document text, please grab out the following items and return with the following format JSON\n",
    "  [{{\n",
    "    \"payer\": \"<Payer Name>\",\n",
    "    \"recipient\": \"<Payee Name>\",\n",
    "    \"amount\": <Amount Paid>, # This is the amount of money in USD\n",
    "    \"pay frequency\": \"<Frequency Paid>\" # Only options are \"hourly, \"daily\", \"monthly\", \"weekly\", \"yearly\", \"one-time\", or \"other\"\n",
    "    \"description\": \"<Description of Work>\" # This is the description of the work being done\n",
    "  }},\n",
    "  {{<ITEM 2>}}, {{Item 3>}}, ...]\n",
    "\n",
    "  So for the following text:\n",
    "  \"Jane Doe will pay $50/month to John Smith for work on the Farm\"\n",
    "\n",
    "  the output text generated would be:\n",
    "  [{{\n",
    "    \"payer\": \"Jane Doe\",\n",
    "    \"recipient\": \"John Smith\",\n",
    "    \"amount\": 50,\n",
    "    \"pay frequency\": \"monthly\"\n",
    "    \"description\": \"work on the farm\"\n",
    "  }}]\n",
    "\n",
    "  IMPORTANT: Return only the list of Python dictionary objects and nothing more. It is possible there are no matches, in which case return an empty list.\n",
    "  \"\"\""
   ]
  },
  {
   "cell_type": "code",
   "execution_count": 142,
   "metadata": {},
   "outputs": [
    {
     "name": "stdout",
     "output_type": "stream",
     "text": [
      "Marcus Wellby commits to donating $500 annually to the Green Earth Foundation for environmental conservation efforts.\n",
      "{\n",
      "    \"payer\": \"Marcus Wellby\",\n",
      "    \"recipient\": \"Green Earth Foundation\",\n",
      "    \"amount\": 500,\n",
      "    \"pay frequency\": \"annually\"\n",
      "}\n"
     ]
    },
    {
     "data": {
      "text/plain": [
       "'Marcus Wellby'"
      ]
     },
     "execution_count": 142,
     "metadata": {},
     "output_type": "execute_result"
    }
   ],
   "source": [
    "# chat = ChatOpenAI(model_name=\"gpt-4-1106-preview\", response_format={\"type\":\"json_object\"})\n",
    "# chat = ChatOpenAI()\n",
    "chat = ChatOllama(model=\"llama2\", format=\"json\")\n",
    "\n",
    "def get_output(input):\n",
    "    messages = [SystemMessage(content=system_message), HumanMessage(content=inputs[0]), AIMessage(content=str(outputs[0])), HumanMessage(content=input)]\n",
    "    output = chat.invoke(messages)\n",
    "    return output.content\n",
    "\n",
    "def parse_output(output):\n",
    "    print(output)\n",
    "    return json.loads(output)\n",
    "\n",
    "print(inputs[2])\n",
    "\n",
    "test = get_output(inputs[2])\n",
    "answer = parse_output(test)\n",
    "\n",
    "answer[\"payer\"]\n",
    "\n",
    "\n",
    "\n"
   ]
  },
  {
   "cell_type": "markdown",
   "metadata": {},
   "source": [
    "## Task #2a: Grab Labor Contract Rows from Kaggle"
   ]
  },
  {
   "cell_type": "code",
   "execution_count": 67,
   "metadata": {},
   "outputs": [
    {
     "data": {
      "text/html": [
       "<div>\n",
       "<style scoped>\n",
       "    .dataframe tbody tr th:only-of-type {\n",
       "        vertical-align: middle;\n",
       "    }\n",
       "\n",
       "    .dataframe tbody tr th {\n",
       "        vertical-align: top;\n",
       "    }\n",
       "\n",
       "    .dataframe thead th {\n",
       "        text-align: right;\n",
       "    }\n",
       "</style>\n",
       "<table border=\"1\" class=\"dataframe\">\n",
       "  <thead>\n",
       "    <tr style=\"text-align: right;\">\n",
       "      <th></th>\n",
       "      <th>project_id</th>\n",
       "      <th>category</th>\n",
       "      <th>sub_category</th>\n",
       "      <th>transcription_text</th>\n",
       "      <th>document_url</th>\n",
       "    </tr>\n",
       "  </thead>\n",
       "  <tbody>\n",
       "    <tr>\n",
       "      <th>10517</th>\n",
       "      <td>15153</td>\n",
       "      <td>Contracts</td>\n",
       "      <td>Labor Contracts</td>\n",
       "      <td>[[preprinted]]_x000D_\\nAGREEMENT FOR LABOR._x000D_\\n_x000D_\\nTHIS INDENTURE, Made and entered into on the ^[[14]] day of ^[[December]] A.D. 186^[[6]], between ^[[Tacitus Clay]] of the County of ^[[Washington]] and State of [[strikethrough]] North Carolina [[/strikethrough]] ^[[insertion]] Texas [[/insertion]], of the first part, and the undersigned, Free Laborer, of the second part:_x000D_\\n_x000D_\\nWITNESSETH, That the said Laborers have agreed to work for the said ^[[Clay Twelve Months]] from [[strikethrough]] this date to the day of [[/strikethrough]] th^[[e]] ^[[arrival at Said Clays]] 186^[[7]]; to do all kinds of work common to farms of the country; to do their work faithfully, and to be respectful in their deportment. And they further agree, that they only receive every month, the amount placed opposite their names, and the rest at the end of the year; and that the amount so retained shall be forfeited if a violation of this contract is clearly proven. And they further agree, [[strikethrough]] that time lost by idleness or absence without leave, shall not be paid for. [[/strikethrough]] ^[[to loose no time that can be avoided]]_x000D_\\n_x000D_\\nAnd the said ^[[Clay]] has agreed that he will furnish the said laborers with comfortable quarters, sufficient rations, and the amount of money per month, which stands opposite their respective names; that he will treat them kindly, and encourage the establishment of schools for their children. [[strikethrough]] ^[[Pay what he considers necessary during said Service and the balance at the expiration of Said Service]] [[/strikethrough]]_x000D_\\n_x000D_\\n[[table]]_x000D_\\nNo. | NAME. | AGE. | ^[[Twelve months]] WAGES. DOLLS. CTS. | MONTHLY PAYM'T. DOLLS. CTS. [[/preprinted]]_x000D_\\n|Phil Shaver His x mark|33|$144|00|2|00_x000D_\\n|John Leo His x mark|16|72|00|1|50_x000D_\\n|Mumford Randleman His x mark|25|120|00|2|00_x000D_\\n|Adam Fisher His x mark|25|144|00|2|00_x000D_\\n|Emma Fisher Her x mark|19|72|00|2|00_x000D_\\n|Joseph Thompson His x mark|19|144|00|2|00_x000D_\\n|Henry Kelly Ale His mark x|20|144|00|2|00_x000D_\\n|Samuel Gillespie His x mark|22|120|00|2|00_x000D_\\n|Nathan Foard His x mark|40|144|00|2|00_x000D_\\n|Jordan Cox, His x mark|19|120|00|2|00_x000D_\\n|Ann Tyson Her x mark|18|84|00|2|00_x000D_\\n|Liza Dixon Her x mark|30|84|00|2|00_x000D_\\n|Ceily Auston Her x mark||25|00|84|00_x000D_\\n|Leon Foard His x mark|13|72|00|2|00_x000D_\\n|Silas Foard His x mark|10|60|00|2|00_x000D_\\n|Alfred P. Dixon His x mark|10|48|00|2|00_x000D_\\n|Mary Hall Her x mark|25|72|00|2|00_x000D_\\n|Hicksey Her x mark|25|72|00|2|00_x000D_\\n|Dennis His x mark|14|48|00|2|00_x000D_\\n|George Little &amp; His x mark|31|120|00|2|00_x000D_\\n|Wife|23|96|00|1|00_x000D_\\n|Will Alfred &amp; His x mark|28|120|00|2|00_x000D_\\n|Wife|19|96|00|2|00_x000D_\\n|Henry Myers His x mark|22|144|00|2|00_x000D_\\n|Thomas Granderson His x mark|24|120|00|2|00_x000D_\\n|Fred Deaton His x mark|23|120|00|2|00_x000D_\\n|[[Illegible - final line of page is cut off]]|14|72|00|2|00_x000D_\\n[[/Table]]_x000D_\\n[[/Preprinted]]</td>\n",
       "      <td>https://transcription.si.edu/transcribe/15153/NMAAHC-004567412_00046</td>\n",
       "    </tr>\n",
       "    <tr>\n",
       "      <th>10518</th>\n",
       "      <td>15153</td>\n",
       "      <td>Contracts</td>\n",
       "      <td>Labor Contracts</td>\n",
       "      <td>[[table]]_x000D_\\nNo. | NAME. | AGE. | ^[[Twelve months]] WAGES. DOLLS. CTS. | MONTHLY PAYM'T. DOLLS. CTS._x000D_\\n_x000D_\\n  |John Finley His x mark| 14 | 72 | 00 | 2 | 00|_x000D_\\n_x000D_\\n  |Wiley Rendleman &amp; His x mark |23 | 120 | 00 | 2 | 00 |_x000D_\\n  |Wife| 20 | 72 | 00 | 2 | 00 |_x000D_\\n_x000D_\\n  |Hock Lee His x mark |15 | 120| 00| 2| 00 |_x000D_\\n_x000D_\\n  |John Chambers His x mark| 23|144|00|2|00|_x000D_\\n  |Wife| 21 | 96| 00| 2| 00 |_x000D_\\n_x000D_\\n  |Emanuel Dixon His x mark| 72 | 00| 1| 00|_x000D_\\n_x000D_\\n  |Elizabeth Dixon His x mark | 28 | 48 | 00 | 2 | 0 |_x000D_\\n_x000D_\\n  |Elvira Dixon His x mark | 23 | 96 | 00 | 2 | 00 |_x000D_\\n_x000D_\\n  |Hannah Dixon His x mark | 22 | 96 | 00 | 2 | 00 |_x000D_\\n_x000D_\\n  |Charlotte Rozelen His x mark | 96 | 00 | 1 | 00 |_x000D_\\n_x000D_\\n  |Ben Crep His x mark | 19 | 96 | 00 | 2 | 00 |_x000D_\\n_x000D_\\n  |James Finley His x mark | 21 | 72 | 00 | 1 00 |_x000D_\\n_x000D_\\n  |Thomas Huff His x mark | 18 | 60 | 00 | 2 | 00 |    [[left margin]] one armed [/left margin]]_x000D_\\n_x000D_\\n  |John Wallace His x mark | 19 | 120 | 00 | 2 | 00 |_x000D_\\n_x000D_\\n  |Erwin Alexander His x mark | 21 | 120 | 00 | 2 | 00 |_x000D_\\n_x000D_\\n  |Monroe Reid His x mark | 17 | 120 | 00 | 2 | 00 |_x000D_\\n_x000D_\\n  |Henry Henderson His x mark | 22 | 120 | 00 | 2 | 00 |_x000D_\\n_x000D_\\n  |John Simonton His x mark | 18 | 120 | 00 | 2 | 00 |_x000D_\\n_x000D_\\n  |Henry Hamilton His x mark | 28 | 120 | 00 | 2 | 00 |_x000D_\\n_x000D_\\n  |Samuel Sloan His x mark | 31 | 120 | 00 | 2 | 00 |_x000D_\\n_x000D_\\n  |Susan Mitchel His x mark | 20 | 120 | 00 | 2 | 00 |_x000D_\\n_x000D_\\n  |John ford His x mark | ? | 40 | 00 | 1 | 5? |_x000D_\\n_x000D_\\n  |James Morris His x mark | 24 | 120 | 00 | 2 | 00 |_x000D_\\n_x000D_\\n[[double line]]_x000D_\\n_x000D_\\nWitness W H Sove_x000D_\\n_x000D_\\n[[?]] Sworth _x000D_\\nBrevet Major usa Actg_x000D_\\nCapt 8th Inft_x000D_\\n_x000D_\\nLt. T. Cay_x000D_\\n[[preprinted]]_x000D_\\nSupt. Bureau R.F. and A.L.,_x000D_\\n[[strikethrough]] Sub [/strikethrough]] _x000D_\\nDistrict of ^[[West N.C.]]_x000D_\\n[/preprinted]]_x000D_\\n_x000D_\\n_x000D_\\n _x000D_\\n_x000D_\\n_x000D_\\n  _x000D_\\n</td>\n",
       "      <td>https://transcription.si.edu/transcribe/15153/NMAAHC-004567412_00047</td>\n",
       "    </tr>\n",
       "    <tr>\n",
       "      <th>10519</th>\n",
       "      <td>15153</td>\n",
       "      <td>Contracts</td>\n",
       "      <td>Labor Contracts</td>\n",
       "      <td>State of North Carolina_x000D_\\nCounty of Meclinburg_x000D_\\n_x000D_\\nArticles of agreement made &amp; entered into between Wm A Dunn [[strikethrough]] &amp; Phocion Ramsey [[/strikethrough]] of Sunflower County State of Mississippi, and the undersigned freedmen of the Second part._x000D_\\n_x000D_\\nWitnesseth- That the parties of the first part, promise &amp; agree to furnish comfortable quarters, three and a half pounds of bacon or five pounds of beef, or mutton and one peck of meal per week, for each full hand, and to pay each hand per month the price agreed upon &amp; affixed to his or her name_x000D_\\n_x000D_\\nIn consideration of the above agreement the parties of the Second part promise &amp; agree to go with the party or (their agent) of the first part to the above mentioned State &amp; County and the parties of the Second part further agree to labor honestly, and faithfully for the Said W.A. Dunn [[strikethrough]] &amp; P. Ramsey [[/strikethrough]], from the time they arrive on the plantation of the above party, until the 31st of Dec 1867, each &amp; every day (Sundays, to be taken in rotation), The day to be considered from light in the morning until dusk in the evening - One hour, to be allowed, in winter spring &amp; fall, and two hours in Summer for eating and rest - a month to consist of twenty six working days. They further agree to faithfully obey all reasonable orders, and to perform all labor on the plantation, or therewith connected, by the Said W.A. Dunn [[strikethrough]] Phocion Ramsey [[/strikethrough]] or their agents and that they will at all times conduct themselves honestly, civilly, and respectfully, - and they further agree to treat all animals entrusted to their care, with kindness, - and in case of abuse of the Same, or loss, or destruction, or injury of any tools or implements or any property in their care by their neglect they shall pay for the Same They further agree that all lost time by Sickness or by consent of the employers shall be deducted from their wages - and if they refuse to work or to serve out the time agreed upon for any other [[last line of page cut off]]</td>\n",
       "      <td>https://transcription.si.edu/transcribe/15153/NMAAHC-004567412_00067</td>\n",
       "    </tr>\n",
       "    <tr>\n",
       "      <th>10520</th>\n",
       "      <td>15153</td>\n",
       "      <td>Contracts</td>\n",
       "      <td>Labor Contracts</td>\n",
       "      <td>on the plantation, or therewith considered,  by the Said W,A, Dunn [[strikethrough]] Phocion Ramsey [[/strikethrough]] or their agents and that they will at all times conduct themselves honestly, civilly, and respectfully - and they further agree to treat all animals entrusted to their care, with kindness,- and in case of abuse of the Same, or loss, or destruction, or injury of any tools or implements or any property in their care by their neglect they shall pay for the Same They further agree that all lost time by Sickness or by consent of the employers shall be deducted from their wages - and if they refuse to work or to serve out the time agreed up for any other reason, than death, Sickness, or written permission from the employer to discontinue the contract then the Said party of the Second part shall forfeit half their wages_x000D_\\n_x000D_\\nIn witness whereof we herewith Set our hand and affix our Seals_x000D_\\n_x000D_\\nThis the 18th day of Jan'y. 1867 - _x000D_\\n_x000D_\\n[[signature]] Wm. A Dunn [[/signature]]_x000D_\\n_x000D_\\nWitness _x000D_\\n[[signature]] C W Downing [[/signature]] _x000D_\\nNoty. Pub_x000D_\\n_x000D_\\n[[four column list]]_x000D_\\n             | Ages | Sex | Price_x000D_\\n    his_x000D_\\nJohn X Emmet | 36 | Male | 10 00_x000D_\\n    mark_x000D_\\nJane - his wife | 33 | Female | 6 00_x000D_\\n&amp; two children under | 12 | - | -_x000D_\\n       his_x000D_\\nWilliam X Beard | 36 | Male | 10 00_x000D_\\n       mark_x000D_\\nMary Beard (his wife) | 32 | Female | 6 00_x000D_\\nJohn (his son) | 15 | Male | 6 00_x000D_\\n     his_x000D_\\nAdam X Benson | 23 | \" [[ditto for Male]] _x000D_\\n     mark_x000D_\\n| 9 00_x000D_\\n     his_x000D_\\nPeter X Jones | 32 | \" [[ditto for Male]] _x000D_\\n     mark_x000D_\\n| 10 00 _x000D_\\n     her_x000D_\\nMary X Heyward | 31 | Female | 6 00_x000D_\\n     mark_x000D_\\n     his_x000D_\\nJohn X Heyward | 24 | Male | 10 00_x000D_\\n     mark_x000D_\\n     her_x000D_\\nMary X Wilson | 21 | Female | 7 00_x000D_\\n    mark_x000D_\\n      her_x000D_\\nLizzy X Bolton | 24 | \" [[ditto for _x000D_\\n      mark_x000D_\\nFemale]] | 7 00_x000D_\\n   his_x000D_\\nJim X Jones | 36 | Male | 10 00_x000D_\\n   mark_x000D_\\nEmma Jones (his wife) | 32 | Female | 6 00_x000D_\\n&amp; 2 children 8 &amp; 10 | To pick cotton-_x000D_\\n     his_x000D_\\nAndy X Abrams | 22 | Male | 9 00_x000D_\\n     mark_x000D_\\n[[last name on list cut off) | 36 |  | 10 00_x000D_\\n _x000D_\\n_x000D_\\n</td>\n",
       "      <td>https://transcription.si.edu/transcribe/15153/NMAAHC-004567412_00068</td>\n",
       "    </tr>\n",
       "    <tr>\n",
       "      <th>10521</th>\n",
       "      <td>15153</td>\n",
       "      <td>Contracts</td>\n",
       "      <td>Labor Contracts</td>\n",
       "      <td>[[4 column table]]_x000D_\\nName | Age | Gender | Amount_x000D_\\n_x000D_\\nJohn his x mark Weyward | 24 | Male | 10.00_x000D_\\nMary her x mark Wilson | 21 | Female | 7.00_x000D_\\nLizzy her x mark Bolton | 24 | Female | 7.00_x000D_\\n{Jun his x mark Jones | 36 | Male | 10.00_x000D_\\n{Emma Jones (his wife) | 32 | Female | 6.00_x000D_\\n{&amp; 2 Children 8 &amp; 10 | To pick cotton |   |   _x000D_\\nAndy his x mark Abrams | 22 | Male | 9.00_x000D_\\nBen his x mark Torrence | 36 | Male | 10.00_x000D_\\nAleck his x mark Hayward | 42 | Male | 10.00_x000D_\\nEmily his wife | 30 | Female | 6.00_x000D_\\n&amp; one child 4 yrs old |   |   | _x000D_\\nAly his x mark Ernest | 23 | Male | 9.00_x000D_\\nBill his x mark Peters | 31 | Male | 10.00_x000D_\\nEmma her x mark Read | 18 | Female | 6.00_x000D_\\nJane her x mark Rhodes | 26 | Female | 6.00_x000D_\\n&amp; one child 5 yrs old |   |   | _x000D_\\n{Joseph his x mark Blunt Blksmith | 53 | Male | 15.00_x000D_\\n{Wife Anna |   |   | _x000D_\\n{&amp; two small children |   |   | _x000D_\\nJohn his x mark Ernest | 24 | Male | 9.00_x000D_\\nEllen her x mark Johnston (Cook) | 32 | Female | 8.00_x000D_\\n{Bill his x mark Thomas | 46 | Male | 10.00_x000D_\\n{Wilhelmina (his wife) | 43 | Female | 6.00_x000D_\\n{Peter Thomas (son) | 19 | Male | 7.00_x000D_\\n{Thomas Thomas (son) | 15 | Male | 7.00_x000D_\\n{Ellen Thomas (dghter) | 12 | To pick cotton | _x000D_\\n{&amp; 2 small children |   |   | _x000D_\\nDavid his x mark Parks | 36 | Male | 9.00_x000D_\\nJane his wife | 30 | Female | 7.00_x000D_\\nCharley his x mark Potts | 26 | Male | 10.00_x000D_\\nRobt. his x mark Edsom | 21 | Male | 9.00_x000D_\\nEllie her x mark Anderson | 26 | Female | 7.00_x000D_\\nWillis his x mark Gibbs | 62 | Male | 10.00_x000D_\\nIsaac his x mark Herriss | 35 | Male | 12.00_x000D_\\nCharlotte his wife &amp; Son | 22 | Female | _x000D_\\nAlick his Son | 1 | Male | _x000D_\\nJim his x mark Gruen | 26 | Male | _x000D_\\nMary Gruen his wife | 20 | Female | _x000D_\\nAnthony Grin (son) | 5 | Male | _x000D_\\nJulien, Emily [[?]] Daugth. | 2 | [[?passed]] | _x000D_\\nJohn his x mark Houston | 18 | Male | _x000D_\\n</td>\n",
       "      <td>https://transcription.si.edu/transcribe/15153/NMAAHC-004567412_00069</td>\n",
       "    </tr>\n",
       "  </tbody>\n",
       "</table>\n",
       "</div>"
      ],
      "text/plain": [
       "       project_id   category     sub_category  \\\n",
       "10517       15153  Contracts  Labor Contracts   \n",
       "10518       15153  Contracts  Labor Contracts   \n",
       "10519       15153  Contracts  Labor Contracts   \n",
       "10520       15153  Contracts  Labor Contracts   \n",
       "10521       15153  Contracts  Labor Contracts   \n",
       "\n",
       "                                                                                                                                                                                                                                                                                                                                                                                                                                                                                                                                                                                                                                                                                                                                                                                                                                                                                                                                                                                                                                                                                                                                                                                                                                                                                                                                                                                                                                                                                                                                                                                                                                                                                                                                                                                                                                                                                                                                                                                                                                                                                                                                                                                                                                                                                                                                                                                                                                                                                                                                                                                                                                                                                                                                                                                                                                                                                                                                                                                                                                                                                                                                                                  transcription_text  \\\n",
       "10517  [[preprinted]]_x000D_\\nAGREEMENT FOR LABOR._x000D_\\n_x000D_\\nTHIS INDENTURE, Made and entered into on the ^[[14]] day of ^[[December]] A.D. 186^[[6]], between ^[[Tacitus Clay]] of the County of ^[[Washington]] and State of [[strikethrough]] North Carolina [[/strikethrough]] ^[[insertion]] Texas [[/insertion]], of the first part, and the undersigned, Free Laborer, of the second part:_x000D_\\n_x000D_\\nWITNESSETH, That the said Laborers have agreed to work for the said ^[[Clay Twelve Months]] from [[strikethrough]] this date to the day of [[/strikethrough]] th^[[e]] ^[[arrival at Said Clays]] 186^[[7]]; to do all kinds of work common to farms of the country; to do their work faithfully, and to be respectful in their deportment. And they further agree, that they only receive every month, the amount placed opposite their names, and the rest at the end of the year; and that the amount so retained shall be forfeited if a violation of this contract is clearly proven. And they further agree, [[strikethrough]] that time lost by idleness or absence without leave, shall not be paid for. [[/strikethrough]] ^[[to loose no time that can be avoided]]_x000D_\\n_x000D_\\nAnd the said ^[[Clay]] has agreed that he will furnish the said laborers with comfortable quarters, sufficient rations, and the amount of money per month, which stands opposite their respective names; that he will treat them kindly, and encourage the establishment of schools for their children. [[strikethrough]] ^[[Pay what he considers necessary during said Service and the balance at the expiration of Said Service]] [[/strikethrough]]_x000D_\\n_x000D_\\n[[table]]_x000D_\\nNo. | NAME. | AGE. | ^[[Twelve months]] WAGES. DOLLS. CTS. | MONTHLY PAYM'T. DOLLS. CTS. [[/preprinted]]_x000D_\\n|Phil Shaver His x mark|33|$144|00|2|00_x000D_\\n|John Leo His x mark|16|72|00|1|50_x000D_\\n|Mumford Randleman His x mark|25|120|00|2|00_x000D_\\n|Adam Fisher His x mark|25|144|00|2|00_x000D_\\n|Emma Fisher Her x mark|19|72|00|2|00_x000D_\\n|Joseph Thompson His x mark|19|144|00|2|00_x000D_\\n|Henry Kelly Ale His mark x|20|144|00|2|00_x000D_\\n|Samuel Gillespie His x mark|22|120|00|2|00_x000D_\\n|Nathan Foard His x mark|40|144|00|2|00_x000D_\\n|Jordan Cox, His x mark|19|120|00|2|00_x000D_\\n|Ann Tyson Her x mark|18|84|00|2|00_x000D_\\n|Liza Dixon Her x mark|30|84|00|2|00_x000D_\\n|Ceily Auston Her x mark||25|00|84|00_x000D_\\n|Leon Foard His x mark|13|72|00|2|00_x000D_\\n|Silas Foard His x mark|10|60|00|2|00_x000D_\\n|Alfred P. Dixon His x mark|10|48|00|2|00_x000D_\\n|Mary Hall Her x mark|25|72|00|2|00_x000D_\\n|Hicksey Her x mark|25|72|00|2|00_x000D_\\n|Dennis His x mark|14|48|00|2|00_x000D_\\n|George Little & His x mark|31|120|00|2|00_x000D_\\n|Wife|23|96|00|1|00_x000D_\\n|Will Alfred & His x mark|28|120|00|2|00_x000D_\\n|Wife|19|96|00|2|00_x000D_\\n|Henry Myers His x mark|22|144|00|2|00_x000D_\\n|Thomas Granderson His x mark|24|120|00|2|00_x000D_\\n|Fred Deaton His x mark|23|120|00|2|00_x000D_\\n|[[Illegible - final line of page is cut off]]|14|72|00|2|00_x000D_\\n[[/Table]]_x000D_\\n[[/Preprinted]]   \n",
       "10518                                                                                                                                                                                                                                                                                                                                                                                                                                                                                                                                                                                                                                                                                                                                                                                                                                                                                                                       [[table]]_x000D_\\nNo. | NAME. | AGE. | ^[[Twelve months]] WAGES. DOLLS. CTS. | MONTHLY PAYM'T. DOLLS. CTS._x000D_\\n_x000D_\\n  |John Finley His x mark| 14 | 72 | 00 | 2 | 00|_x000D_\\n_x000D_\\n  |Wiley Rendleman & His x mark |23 | 120 | 00 | 2 | 00 |_x000D_\\n  |Wife| 20 | 72 | 00 | 2 | 00 |_x000D_\\n_x000D_\\n  |Hock Lee His x mark |15 | 120| 00| 2| 00 |_x000D_\\n_x000D_\\n  |John Chambers His x mark| 23|144|00|2|00|_x000D_\\n  |Wife| 21 | 96| 00| 2| 00 |_x000D_\\n_x000D_\\n  |Emanuel Dixon His x mark| 72 | 00| 1| 00|_x000D_\\n_x000D_\\n  |Elizabeth Dixon His x mark | 28 | 48 | 00 | 2 | 0 |_x000D_\\n_x000D_\\n  |Elvira Dixon His x mark | 23 | 96 | 00 | 2 | 00 |_x000D_\\n_x000D_\\n  |Hannah Dixon His x mark | 22 | 96 | 00 | 2 | 00 |_x000D_\\n_x000D_\\n  |Charlotte Rozelen His x mark | 96 | 00 | 1 | 00 |_x000D_\\n_x000D_\\n  |Ben Crep His x mark | 19 | 96 | 00 | 2 | 00 |_x000D_\\n_x000D_\\n  |James Finley His x mark | 21 | 72 | 00 | 1 00 |_x000D_\\n_x000D_\\n  |Thomas Huff His x mark | 18 | 60 | 00 | 2 | 00 |    [[left margin]] one armed [/left margin]]_x000D_\\n_x000D_\\n  |John Wallace His x mark | 19 | 120 | 00 | 2 | 00 |_x000D_\\n_x000D_\\n  |Erwin Alexander His x mark | 21 | 120 | 00 | 2 | 00 |_x000D_\\n_x000D_\\n  |Monroe Reid His x mark | 17 | 120 | 00 | 2 | 00 |_x000D_\\n_x000D_\\n  |Henry Henderson His x mark | 22 | 120 | 00 | 2 | 00 |_x000D_\\n_x000D_\\n  |John Simonton His x mark | 18 | 120 | 00 | 2 | 00 |_x000D_\\n_x000D_\\n  |Henry Hamilton His x mark | 28 | 120 | 00 | 2 | 00 |_x000D_\\n_x000D_\\n  |Samuel Sloan His x mark | 31 | 120 | 00 | 2 | 00 |_x000D_\\n_x000D_\\n  |Susan Mitchel His x mark | 20 | 120 | 00 | 2 | 00 |_x000D_\\n_x000D_\\n  |John ford His x mark | ? | 40 | 00 | 1 | 5? |_x000D_\\n_x000D_\\n  |James Morris His x mark | 24 | 120 | 00 | 2 | 00 |_x000D_\\n_x000D_\\n[[double line]]_x000D_\\n_x000D_\\nWitness W H Sove_x000D_\\n_x000D_\\n[[?]] Sworth _x000D_\\nBrevet Major usa Actg_x000D_\\nCapt 8th Inft_x000D_\\n_x000D_\\nLt. T. Cay_x000D_\\n[[preprinted]]_x000D_\\nSupt. Bureau R.F. and A.L.,_x000D_\\n[[strikethrough]] Sub [/strikethrough]] _x000D_\\nDistrict of ^[[West N.C.]]_x000D_\\n[/preprinted]]_x000D_\\n_x000D_\\n_x000D_\\n _x000D_\\n_x000D_\\n_x000D_\\n  _x000D_\\n   \n",
       "10519                                                                                                                                                                                                                                                                                                                                                                                                                                                                                                                                                                                                                                                                                                                                                                                                                                                                                                                                                                                          State of North Carolina_x000D_\\nCounty of Meclinburg_x000D_\\n_x000D_\\nArticles of agreement made & entered into between Wm A Dunn [[strikethrough]] & Phocion Ramsey [[/strikethrough]] of Sunflower County State of Mississippi, and the undersigned freedmen of the Second part._x000D_\\n_x000D_\\nWitnesseth- That the parties of the first part, promise & agree to furnish comfortable quarters, three and a half pounds of bacon or five pounds of beef, or mutton and one peck of meal per week, for each full hand, and to pay each hand per month the price agreed upon & affixed to his or her name_x000D_\\n_x000D_\\nIn consideration of the above agreement the parties of the Second part promise & agree to go with the party or (their agent) of the first part to the above mentioned State & County and the parties of the Second part further agree to labor honestly, and faithfully for the Said W.A. Dunn [[strikethrough]] & P. Ramsey [[/strikethrough]], from the time they arrive on the plantation of the above party, until the 31st of Dec 1867, each & every day (Sundays, to be taken in rotation), The day to be considered from light in the morning until dusk in the evening - One hour, to be allowed, in winter spring & fall, and two hours in Summer for eating and rest - a month to consist of twenty six working days. They further agree to faithfully obey all reasonable orders, and to perform all labor on the plantation, or therewith connected, by the Said W.A. Dunn [[strikethrough]] Phocion Ramsey [[/strikethrough]] or their agents and that they will at all times conduct themselves honestly, civilly, and respectfully, - and they further agree to treat all animals entrusted to their care, with kindness, - and in case of abuse of the Same, or loss, or destruction, or injury of any tools or implements or any property in their care by their neglect they shall pay for the Same They further agree that all lost time by Sickness or by consent of the employers shall be deducted from their wages - and if they refuse to work or to serve out the time agreed upon for any other [[last line of page cut off]]   \n",
       "10520                                                                                                                                                                                                                                                                                                                                                                                                                                                                                                                                                                                                                                                                   on the plantation, or therewith considered,  by the Said W,A, Dunn [[strikethrough]] Phocion Ramsey [[/strikethrough]] or their agents and that they will at all times conduct themselves honestly, civilly, and respectfully - and they further agree to treat all animals entrusted to their care, with kindness,- and in case of abuse of the Same, or loss, or destruction, or injury of any tools or implements or any property in their care by their neglect they shall pay for the Same They further agree that all lost time by Sickness or by consent of the employers shall be deducted from their wages - and if they refuse to work or to serve out the time agreed up for any other reason, than death, Sickness, or written permission from the employer to discontinue the contract then the Said party of the Second part shall forfeit half their wages_x000D_\\n_x000D_\\nIn witness whereof we herewith Set our hand and affix our Seals_x000D_\\n_x000D_\\nThis the 18th day of Jan'y. 1867 - _x000D_\\n_x000D_\\n[[signature]] Wm. A Dunn [[/signature]]_x000D_\\n_x000D_\\nWitness _x000D_\\n[[signature]] C W Downing [[/signature]] _x000D_\\nNoty. Pub_x000D_\\n_x000D_\\n[[four column list]]_x000D_\\n             | Ages | Sex | Price_x000D_\\n    his_x000D_\\nJohn X Emmet | 36 | Male | 10 00_x000D_\\n    mark_x000D_\\nJane - his wife | 33 | Female | 6 00_x000D_\\n& two children under | 12 | - | -_x000D_\\n       his_x000D_\\nWilliam X Beard | 36 | Male | 10 00_x000D_\\n       mark_x000D_\\nMary Beard (his wife) | 32 | Female | 6 00_x000D_\\nJohn (his son) | 15 | Male | 6 00_x000D_\\n     his_x000D_\\nAdam X Benson | 23 | \" [[ditto for Male]] _x000D_\\n     mark_x000D_\\n| 9 00_x000D_\\n     his_x000D_\\nPeter X Jones | 32 | \" [[ditto for Male]] _x000D_\\n     mark_x000D_\\n| 10 00 _x000D_\\n     her_x000D_\\nMary X Heyward | 31 | Female | 6 00_x000D_\\n     mark_x000D_\\n     his_x000D_\\nJohn X Heyward | 24 | Male | 10 00_x000D_\\n     mark_x000D_\\n     her_x000D_\\nMary X Wilson | 21 | Female | 7 00_x000D_\\n    mark_x000D_\\n      her_x000D_\\nLizzy X Bolton | 24 | \" [[ditto for _x000D_\\n      mark_x000D_\\nFemale]] | 7 00_x000D_\\n   his_x000D_\\nJim X Jones | 36 | Male | 10 00_x000D_\\n   mark_x000D_\\nEmma Jones (his wife) | 32 | Female | 6 00_x000D_\\n& 2 children 8 & 10 | To pick cotton-_x000D_\\n     his_x000D_\\nAndy X Abrams | 22 | Male | 9 00_x000D_\\n     mark_x000D_\\n[[last name on list cut off) | 36 |  | 10 00_x000D_\\n _x000D_\\n_x000D_\\n   \n",
       "10521                                                                                                                                                                                                                                                                                                                                                                                                                                                                                                                                                                                                                                                                                                                                                                                                                                                                                                                                                                                                          [[4 column table]]_x000D_\\nName | Age | Gender | Amount_x000D_\\n_x000D_\\nJohn his x mark Weyward | 24 | Male | 10.00_x000D_\\nMary her x mark Wilson | 21 | Female | 7.00_x000D_\\nLizzy her x mark Bolton | 24 | Female | 7.00_x000D_\\n{Jun his x mark Jones | 36 | Male | 10.00_x000D_\\n{Emma Jones (his wife) | 32 | Female | 6.00_x000D_\\n{& 2 Children 8 & 10 | To pick cotton |   |   _x000D_\\nAndy his x mark Abrams | 22 | Male | 9.00_x000D_\\nBen his x mark Torrence | 36 | Male | 10.00_x000D_\\nAleck his x mark Hayward | 42 | Male | 10.00_x000D_\\nEmily his wife | 30 | Female | 6.00_x000D_\\n& one child 4 yrs old |   |   | _x000D_\\nAly his x mark Ernest | 23 | Male | 9.00_x000D_\\nBill his x mark Peters | 31 | Male | 10.00_x000D_\\nEmma her x mark Read | 18 | Female | 6.00_x000D_\\nJane her x mark Rhodes | 26 | Female | 6.00_x000D_\\n& one child 5 yrs old |   |   | _x000D_\\n{Joseph his x mark Blunt Blksmith | 53 | Male | 15.00_x000D_\\n{Wife Anna |   |   | _x000D_\\n{& two small children |   |   | _x000D_\\nJohn his x mark Ernest | 24 | Male | 9.00_x000D_\\nEllen her x mark Johnston (Cook) | 32 | Female | 8.00_x000D_\\n{Bill his x mark Thomas | 46 | Male | 10.00_x000D_\\n{Wilhelmina (his wife) | 43 | Female | 6.00_x000D_\\n{Peter Thomas (son) | 19 | Male | 7.00_x000D_\\n{Thomas Thomas (son) | 15 | Male | 7.00_x000D_\\n{Ellen Thomas (dghter) | 12 | To pick cotton | _x000D_\\n{& 2 small children |   |   | _x000D_\\nDavid his x mark Parks | 36 | Male | 9.00_x000D_\\nJane his wife | 30 | Female | 7.00_x000D_\\nCharley his x mark Potts | 26 | Male | 10.00_x000D_\\nRobt. his x mark Edsom | 21 | Male | 9.00_x000D_\\nEllie her x mark Anderson | 26 | Female | 7.00_x000D_\\nWillis his x mark Gibbs | 62 | Male | 10.00_x000D_\\nIsaac his x mark Herriss | 35 | Male | 12.00_x000D_\\nCharlotte his wife & Son | 22 | Female | _x000D_\\nAlick his Son | 1 | Male | _x000D_\\nJim his x mark Gruen | 26 | Male | _x000D_\\nMary Gruen his wife | 20 | Female | _x000D_\\nAnthony Grin (son) | 5 | Male | _x000D_\\nJulien, Emily [[?]] Daugth. | 2 | [[?passed]] | _x000D_\\nJohn his x mark Houston | 18 | Male | _x000D_\\n   \n",
       "\n",
       "                                                               document_url  \n",
       "10517  https://transcription.si.edu/transcribe/15153/NMAAHC-004567412_00046  \n",
       "10518  https://transcription.si.edu/transcribe/15153/NMAAHC-004567412_00047  \n",
       "10519  https://transcription.si.edu/transcribe/15153/NMAAHC-004567412_00067  \n",
       "10520  https://transcription.si.edu/transcribe/15153/NMAAHC-004567412_00068  \n",
       "10521  https://transcription.si.edu/transcribe/15153/NMAAHC-004567412_00069  "
      ]
     },
     "execution_count": 67,
     "metadata": {},
     "output_type": "execute_result"
    }
   ],
   "source": [
    "import pandas as pd\n",
    "\n",
    "df = pd.read_csv('./input/contract-records.csv')\n",
    "labor = df[df['sub_category']=='Labor Contracts']\n",
    "labor.head()\n",
    "\n",
    "pd.set_option('display.max_colwidth', None)\n",
    "pd.set_option('display.max_columns', None)\n",
    "pd.set_option('display.max_rows', None)\n",
    "\n",
    "# pd.reset_option('display.max_colwidth')\n",
    "# pd.reset_option('display.max_columns')\n",
    "# pd.reset_option('display.max_rows')\n",
    "\n",
    "\n",
    "\n",
    "labor.head()\n"
   ]
  },
  {
   "cell_type": "markdown",
   "metadata": {},
   "source": [
    "## Task #2: Connect pages that belong to the same document"
   ]
  },
  {
   "cell_type": "code",
   "execution_count": null,
   "metadata": {},
   "outputs": [],
   "source": []
  },
  {
   "cell_type": "code",
   "execution_count": null,
   "metadata": {},
   "outputs": [],
   "source": []
  }
 ],
 "metadata": {
  "kernelspec": {
   "display_name": "youtube",
   "language": "python",
   "name": "python3"
  },
  "language_info": {
   "codemirror_mode": {
    "name": "ipython",
    "version": 3
   },
   "file_extension": ".py",
   "mimetype": "text/x-python",
   "name": "python",
   "nbconvert_exporter": "python",
   "pygments_lexer": "ipython3",
   "version": "3.11.7"
  }
 },
 "nbformat": 4,
 "nbformat_minor": 2
}
