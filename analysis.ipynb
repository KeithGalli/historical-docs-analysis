{
 "cells": [
  {
   "cell_type": "markdown",
   "metadata": {},
   "source": [
    "# Freedmen's Bureau Analysis "
   ]
  },
  {
   "cell_type": "markdown",
   "metadata": {},
   "source": [
    "## Task #0: Configure an LLM"
   ]
  },
  {
   "cell_type": "markdown",
   "metadata": {},
   "source": [
    "### Import libraries that we'll use in this notebook"
   ]
  },
  {
   "cell_type": "code",
   "execution_count": 30,
   "metadata": {},
   "outputs": [],
   "source": [
    "from langchain_community.llms import Ollama\n",
    "from langchain_community.chat_models import ChatOllama\n",
    "from langchain_openai import OpenAI, ChatOpenAI\n",
    "from langchain.prompts import PromptTemplate, ChatPromptTemplate\n",
    "from langchain.chains import LLMChain\n",
    "from langchain.schema import HumanMessage, SystemMessage, AIMessage\n",
    "\n",
    "import json\n"
   ]
  },
  {
   "cell_type": "markdown",
   "metadata": {},
   "source": [
    "## Task #1: Parse Entitities from Simple Examples (Warmup)"
   ]
  },
  {
   "cell_type": "markdown",
   "metadata": {},
   "source": [
    "### Samples to be able to parse correctly"
   ]
  },
  {
   "cell_type": "code",
   "execution_count": 40,
   "metadata": {},
   "outputs": [],
   "source": [
    "inputs = [\n",
    "    \"John James agrees to pay $50/month to RJ Hampshire for work on the Farm\",\n",
    "    \"Elizabeth James will pay $30 per month to Levi Rodgers for Gardening\",\n",
    "    \"\"\"This Agreement made this 14th day of August A.D. 1865, by and between F.R.J. Terry of the county of Copiah and State of Mississippi of the first part, and the person hereinafter named and undersigned, Freedmen of the second part [[?]] That for the purpose of working in the [[?]] known as Beagley's [[?]] Yard in the county aforesaid for two months commencing on the 14th day of August 1865 and terminating on the 14th day of October 1865. The said F.R.J. Terry party of the first part, in consideration of the [[?]] and conditions hereinafter mentioned on the part of the party of the second part agrees to pay said laborer \"10\" ten dollars per month and furnish free of charge clothing and good of good quality and sufficient quantity, good and sufficient quarters, and kind and humane treatment. And it is further agreed that in case the said F.R.J. Terry shall fail, neglect, or refuse to fulfill any of the obligations assumed by him, he shall besides the legal recourse left to the party aggrieved render this contract liable to amendment by the Provost Marshal of Freedmen. And it is agreed on the part of the party of second part that he will well and faithfully perform such labor as the said F.R.J. Terry may require of him for the time aforesaid, nor exceeding ten hours per day in summer and nine hours in winter. And in case the said laborer shall absent himself from or refuse to perform the labor herein promised, he shall loose the time and be punished as such manner as the Provost Marshal shall deem propper.\"\"\"\n",
    "]\n",
    "\n",
    "outputs = [\n",
    "    {\"payer\": \"John James\", \"payee\": \"RJ Hampshire\", \"amount\": 50, \"pay frequency\": \"monthly\", \"description\": \"farming\"},\n",
    "    {\"payer\": \"Elizabeth James\", \"payee\": \"Levi Rodgers\", \"amount\": 30, \"pay frequency\": \"monthly\", \"description\": \"gardening\"},\n",
    "    {\"payer\": \"F.R.J. Terry\", \"payee\": \"Freedmen\", \"amount\":10, \"pay frequency\": \"monthly\", \"description\": \"working in the yard\"}\n",
    "]"
   ]
  },
  {
   "cell_type": "markdown",
   "metadata": {},
   "source": [
    "### Your code here"
   ]
  },
  {
   "cell_type": "code",
   "execution_count": 41,
   "metadata": {},
   "outputs": [],
   "source": [
    "system_message = \"\"\"\n",
    "  From the following historical document text, please grab out the following items and return with the following format\n",
    "  [{{\n",
    "    \"payer\": \"<Payer Name>\",\n",
    "    \"payee\": \"<Payee Name>\",\n",
    "    \"amount\": <Amount Paid>, # This is the amount of money in USD\n",
    "    \"pay frequency\": \"<Frequency Paid>\" # Only options are \"monthly\", \"weekly\", \"yearly\", \"one-time\", or \"unknown\"\n",
    "    \"description\": \"<Description of Work>\" # This is the description of the work being done\n",
    "  }},\n",
    "  {{<ITEM 2>}}, {{Item 3>}}, ...]\n",
    "\n",
    "  So for the following text:\n",
    "  \"Jane Doe will pay $50/month to John Smith for work on the Farm\"\n",
    "\n",
    "  the output text generated would be:\n",
    "  [{{\n",
    "    \"payer\": \"Jane Doe\",\n",
    "    \"payee\": \"John Smith\",\n",
    "    \"amount\": 50,\n",
    "    \"pay frequency\": \"monthly\"\n",
    "    \"description\": \"work on the Farm\"\n",
    "  }}]\n",
    "\n",
    "  IMPORTANT: Return only the list of Python dictionary objects and nothing more. It is possible there are no matches, in which case return an empty list.\n",
    "  \"\"\""
   ]
  },
  {
   "cell_type": "code",
   "execution_count": 44,
   "metadata": {},
   "outputs": [
    {
     "name": "stdout",
     "output_type": "stream",
     "text": [
      "content=\"[{'payer': 'F.R.J. Terry', 'payee': 'Freedmen', 'amount': 10, 'pay frequency': 'monthly', 'description': 'working in Beagley\\\\'s Yard for two months commencing on the 14th day of August 1865 and terminating on the 14th day of October 1865. Includes free clothing, good and sufficient quarters, and kind and humane treatment. Labor not to exceed ten hours per day in summer and nine hours in winter.'}]\"\n"
     ]
    }
   ],
   "source": [
    "chat = ChatOpenAI()\n",
    "# chat = ChatOllama(model=\"llama2\")\n",
    "\n",
    "messages = [SystemMessage(content=system_message), HumanMessage(content=inputs[0]), AIMessage(content=str(outputs[0])), HumanMessage(content=inputs[2])]\n",
    "\n",
    "output = chat.invoke(messages)\n",
    "\n",
    "print(output)\n",
    "\n",
    "\n"
   ]
  },
  {
   "cell_type": "markdown",
   "metadata": {},
   "source": [
    "## Task #2a: Grab Labor Contract Rows from Kaggle"
   ]
  },
  {
   "cell_type": "code",
   "execution_count": 54,
   "metadata": {},
   "outputs": [],
   "source": [
    "import pandas as pd\n",
    "\n",
    "df = pd.read_csv('./input/contract-records.csv')\n",
    "labor = df[df['sub_category']=='Labor Contracts']\n",
    "labor.head()"
   ]
  }
 ],
 "metadata": {
  "kernelspec": {
   "display_name": "youtube",
   "language": "python",
   "name": "python3"
  },
  "language_info": {
   "codemirror_mode": {
    "name": "ipython",
    "version": 3
   },
   "file_extension": ".py",
   "mimetype": "text/x-python",
   "name": "python",
   "nbconvert_exporter": "python",
   "pygments_lexer": "ipython3",
   "version": "3.11.7"
  }
 },
 "nbformat": 4,
 "nbformat_minor": 2
}
