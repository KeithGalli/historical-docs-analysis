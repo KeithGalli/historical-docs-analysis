{
 "cells": [
  {
   "cell_type": "markdown",
   "metadata": {},
   "source": [
    "# Freedmen's Bureau Analysis "
   ]
  },
  {
   "cell_type": "markdown",
   "metadata": {},
   "source": [
    "## Task #0: Configure an LLM"
   ]
  },
  {
   "cell_type": "markdown",
   "metadata": {},
   "source": [
    "### Import libraries that we'll use in this notebook"
   ]
  },
  {
   "cell_type": "code",
   "execution_count": 1,
   "metadata": {},
   "outputs": [],
   "source": [
    "\n"
   ]
  },
  {
   "cell_type": "markdown",
   "metadata": {},
   "source": [
    "### Configure OpenAI & Llama-2 LLMs"
   ]
  },
  {
   "cell_type": "code",
   "execution_count": null,
   "metadata": {},
   "outputs": [],
   "source": []
  },
  {
   "cell_type": "markdown",
   "metadata": {},
   "source": [
    "## Task #1: Parse Entitities from Simple Examples (Warmup)"
   ]
  },
  {
   "cell_type": "markdown",
   "metadata": {},
   "source": [
    "### Samples to be able to parse correctly"
   ]
  },
  {
   "cell_type": "code",
   "execution_count": 2,
   "metadata": {},
   "outputs": [],
   "source": [
    "\n",
    "inputs = [\n",
    "    \"John James agrees to pay $50/month to RJ Hampshire for work on the Farm\",\n",
    "    \"Elizabeth James will pay $30 per month to Levi Rodgers for Gardening\",\n",
    "    \"Johnson Ollaman will pay $1.25 per day to both John Smith and Jane Smith for teaching the children of the community\",\n",
    "    \"Claire Daniels charges $50 weekly to local community members for cooking classes, emphasizing the joy of healthy eating.\",\n",
    "    \"Marcus Wellby commits to donating $500 annually to the Green Earth Foundation for environmental conservation efforts.\",\n",
    "    \"Dr. Helena Russell charges $100 per hour for providing guidance and support to medical students, aiming to enhance their clinical skills and knowledge.\",\n",
    "    \"Keith Galli charges $0 to watch his YouTube content; the least you could do is smash that like button and subscribe, hehehe xD\",\n",
    "    \"The local sports club agrees to pay $75 each to coaches Sarah Miller, Danny Glover, Alex Reed, and Jamie Fox for conducting a weekend sports clinic.\",\n",
    "    \"\"\"This Agreement made this 14th day of August A.D. 1865, by and between F.R.J. Terry of the county of Copiah and State of Mississippi of the first part, and the person hereinafter named and undersigned, Freedmen of the second part [[?]] That for the purpose of working in the [[?]] known as Beagley's [[?]] Yard in the county aforesaid for two months commencing on the 14th day of August 1865 and terminating on the 14th day of October 1865. The said F.R.J. Terry party of the first part, in consideration of the [[?]] and conditions hereinafter mentioned on the part of the party of the second part agrees to pay said laborer \"10\" ten dollars per month and furnish free of charge clothing and good of good quality and sufficient quantity, good and sufficient quarters, and kind and humane treatment. And it is further agreed that in case the said F.R.J. Terry shall fail, neglect, or refuse to fulfill any of the obligations assumed by him, he shall besides the legal recourse left to the party aggrieved render this contract liable to amendment by the Provost Marshal of Freedmen. And it is agreed on the part of the party of second part that he will well and faithfully perform such labor as the said F.R.J. Terry may require of him for the time aforesaid, nor exceeding ten hours per day in summer and nine hours in winter. And in case the said laborer shall absent himself from or refuse to perform the labor herein promised, he shall loose the time and be punished as such manner as the Provost Marshal shall deem propper.\"\"\",\n",
    "]\n",
    "\n",
    "outputs = [\n",
    "    [{\"payer\": \"John James\", \"recipient\": \"RJ Hampshire\", \"amount\": 50, \"pay frequency\": \"monthly\", \"description\": \"farming\"}],\n",
    "    [{\"payer\": \"Elizabeth James\", \"recipient\": \"Levi Rodgers\", \"amount\": 30, \"pay frequency\": \"monthly\", \"description\": \"gardening\"}],\n",
    "    [{\"payer\": \"Johnson Ollaman\", \"recipient\": \"John Smith\", \"amount\": 1.25, \"pay frequency\": \"daily\", \"description\": \"teaching the children of the community\"}, {\"payer\": \"Johnson Ollaman\", \"recipient\": \"Jane Smith\", \"amount\": 1.25, \"pay frequency\": \"daily\", \"description\": \"teaching the children of the community\"}],\n",
    "    [{\"payer\": \"Claire Daniels\", \"recipient\": \"Local community members\", \"amount\": 50, \"pay frequency\": \"weekly\", \"description\": \"cooking classes\"}],\n",
    "    [{\"payer\": \"Marcus Wellby\", \"recipient\": \"Green Earth Foundation\", \"amount\": 500, \"pay frequency\": \"yearly\", \"description\": \"donation for environmental conservation\"}],\n",
    "    [{\"payer\": \"Dr. Helena Russell\", \"recipient\": \"Medical students\", \"amount\": 100, \"pay frequency\": \"hourly\", \"description\": \"mentorship and clinical skill enhancement\"}],\n",
    "    [{\"payer\": None, \"recipient\": \"Keith Galli\", \"amount\": 0, \"pay frequency\": None, \"description\": \"YouTube content\"}],\n",
    "    [{\"payer\": \"The local sports club\", \"recipient\": \"Sarah Miller\", \"amount\": 75, \"pay frequency\": \"one-time\", \"description\": \"weekend sports clinic\"},\n",
    "     {\"payer\": \"The local sports club\", \"recipient\": \"Danny Glover\", \"amount\": 75, \"pay frequency\": \"one-time\", \"description\": \"weekend sports clinic\"},\n",
    "     {\"payer\": \"The local sports club\", \"recipient\": \"Alex Reed\", \"amount\": 75, \"pay frequency\": \"one-time\", \"description\": \"weekend sports clinic\"},\n",
    "     {\"payer\": \"The local sports club\", \"recipient\": \"Jamie Fox\", \"amount\": 75, \"pay frequency\": \"one-time\", \"description\": \"weekend sports clinic\"}],\n",
    "    [{\"payer\": \"F.R.J. Terry\", \"payee\": \"Freedmen\", \"amount\":10, \"pay frequency\": \"monthly\", \"description\": \"working in the yard\"}],\n",
    "]"
   ]
  },
  {
   "cell_type": "markdown",
   "metadata": {},
   "source": [
    "### Your code here"
   ]
  },
  {
   "cell_type": "markdown",
   "metadata": {},
   "source": [
    "## Task #2a: Grab Apprenticeship Agreement Rows from Kaggle"
   ]
  },
  {
   "cell_type": "code",
   "execution_count": null,
   "metadata": {},
   "outputs": [],
   "source": []
  },
  {
   "cell_type": "markdown",
   "metadata": {},
   "source": [
    "## Task #2: Connect pages that belong to the same document"
   ]
  },
  {
   "cell_type": "code",
   "execution_count": null,
   "metadata": {},
   "outputs": [],
   "source": []
  },
  {
   "cell_type": "markdown",
   "metadata": {},
   "source": [
    "## Task #3: Grab Apprenticeship info from CSV"
   ]
  },
  {
   "cell_type": "code",
   "execution_count": null,
   "metadata": {},
   "outputs": [],
   "source": []
  },
  {
   "cell_type": "markdown",
   "metadata": {},
   "source": [
    "## Task #4: Analyze Results"
   ]
  },
  {
   "cell_type": "markdown",
   "metadata": {},
   "source": []
  }
 ],
 "metadata": {
  "kernelspec": {
   "display_name": "youtube",
   "language": "python",
   "name": "python3"
  },
  "language_info": {
   "codemirror_mode": {
    "name": "ipython",
    "version": 3
   },
   "file_extension": ".py",
   "mimetype": "text/x-python",
   "name": "python",
   "nbconvert_exporter": "python",
   "pygments_lexer": "ipython3",
   "version": "3.11.7"
  }
 },
 "nbformat": 4,
 "nbformat_minor": 2
}
