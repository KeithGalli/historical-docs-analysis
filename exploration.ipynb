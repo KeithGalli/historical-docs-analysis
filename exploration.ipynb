{
 "cells": [
  {
   "cell_type": "code",
   "execution_count": 4,
   "metadata": {},
   "outputs": [
    {
     "ename": "SyntaxError",
     "evalue": "incomplete input (3923542006.py, line 8)",
     "output_type": "error",
     "traceback": [
      "\u001b[0;36m  Cell \u001b[0;32mIn[4], line 8\u001b[0;36m\u001b[0m\n\u001b[0;31m    prompt = \"\"\"\u001b[0m\n\u001b[0m             ^\u001b[0m\n\u001b[0;31mSyntaxError\u001b[0m\u001b[0;31m:\u001b[0m incomplete input\n"
     ]
    }
   ],
   "source": [
    "# https://docs.cohere.com/reference/generate\n",
    "\n",
    "import cohere\n",
    "import os\n",
    "\n",
    "co = cohere.Client(os.environ['COHERE_API_KEY'])\n",
    "\n",
    "prompt = \"\"\"\n",
    "From the following historical document text, please grab out the following items and return with the following format\n",
    "[{{\n",
    "  \"name\": \"John Doe\",\n",
    "  \"age\": 30,\n",
    "  \"title\": \"Farmer\"\n",
    "}},\n",
    "{{<ITEM 2>}}, {{Item 3>}}, ...]\n",
    "\n",
    "Here is the text:\n",
    "{text}\"\"\"\n",
    "\n",
    "\n",
    "response = co.generate(\n",
    "  prompt='From the following',\n",
    ")\n",
    "print(response)\n"
   ]
  },
  {
   "cell_type": "code",
   "execution_count": 9,
   "metadata": {},
   "outputs": [
    {
     "name": "stderr",
     "output_type": "stream",
     "text": [
      "/opt/homebrew/lib/python3.11/site-packages/langchain_core/_api/deprecation.py:117: LangChainDeprecationWarning: The function `predict` was deprecated in LangChain 0.1.7 and will be removed in 0.2.0. Use invoke instead.\n",
      "  warn_deprecated(\n"
     ]
    },
    {
     "data": {
      "text/plain": [
       "'\\n\\n[{\\n  \"name\": \"Tim Paulson\",\\n  \"age\": 30,\\n  \"title\": \"Farmer\"\\n},\\n{\\n  \"name\": \"John Paulson\",\\n  \"age\": 12,\\n  \"title\": \"Student\"\\n},\\n{\\n  \"name\": \"Jane Paulson\",\\n  \"age\": 10,\\n  \"title\": \"Student\"\\n}]'"
      ]
     },
     "execution_count": 9,
     "metadata": {},
     "output_type": "execute_result"
    }
   ],
   "source": [
    "# pip install -U langchain-community cohere\n",
    "## Use Langchain https://python.langchain.com/docs/integrations/llms/cohere\n",
    "# https://api.python.langchain.com/en/latest/llms/langchain_community.llms.cohere.Cohere.html\n",
    "\n",
    "#from langchain_community.llms import Cohere\n",
    "# from langchain_core.prompts import PromptTemplate\n",
    "\n",
    "from langchain_openai import OpenAI\n",
    "from langchain.prompts import PromptTemplate\n",
    "from langchain.chains import LLMChain\n",
    "\n",
    "import json\n",
    "\n",
    "model = OpenAI()\n",
    "\n",
    "system_message = \"\"\"\n",
    "From the following historical document text, please grab out the following items and return with the following format\n",
    "[{{\n",
    "  \"name\": \"John Doe\",\n",
    "  \"age\": 30,\n",
    "  \"title\": \"Farmer\"\n",
    "}},\n",
    "{{<ITEM 2>}}, {{Item 3>}}, ...]\n",
    "\n",
    "Return only the list of Python dictionary objects and nothing more. Make a dictionary entry for each person mentioned.\n",
    "\n",
    "Here is the text:\n",
    "{text}\"\"\"\n",
    "\n",
    "text = \"Tim Paulson was a farmer who lived in the 1800s. He was 30 years old and lived in the state of California. He had two kids, John and Jane. John was 12 and Jane was 10. They were both students.\"\n",
    "\n",
    "prompt = PromptTemplate(input_variables=['text'], template=system_message)\n",
    "full_prompt = prompt.format(text=text)\n",
    "\n",
    "response_raw = model.predict(full_prompt)\n",
    "\n",
    "response = json.loads(response_raw)\n",
    "\n",
    "response\n",
    "\n",
    "\n"
   ]
  },
  {
   "cell_type": "code",
   "execution_count": null,
   "metadata": {},
   "outputs": [],
   "source": []
  },
  {
   "cell_type": "code",
   "execution_count": null,
   "metadata": {},
   "outputs": [],
   "source": []
  }
 ],
 "metadata": {
  "kernelspec": {
   "display_name": "Python 3",
   "language": "python",
   "name": "python3"
  },
  "language_info": {
   "codemirror_mode": {
    "name": "ipython",
    "version": 3
   },
   "file_extension": ".py",
   "mimetype": "text/x-python",
   "name": "python",
   "nbconvert_exporter": "python",
   "pygments_lexer": "ipython3",
   "version": "3.11.5"
  },
  "orig_nbformat": 4
 },
 "nbformat": 4,
 "nbformat_minor": 2
}
